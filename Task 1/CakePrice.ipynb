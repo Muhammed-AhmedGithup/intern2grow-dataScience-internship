{
 "cells": [
  {
   "cell_type": "code",
   "execution_count": 77,
   "id": "5e0a90bc-cfcf-4bcd-bf33-85dfbb5eea87",
   "metadata": {},
   "outputs": [],
   "source": [
    "import pandas as pd,numpy as np"
   ]
  },
  {
   "cell_type": "code",
   "execution_count": 78,
   "id": "0718e607-24e6-42fe-84d1-4a65fc699076",
   "metadata": {},
   "outputs": [
    {
     "data": {
      "text/html": [
       "<div>\n",
       "<style scoped>\n",
       "    .dataframe tbody tr th:only-of-type {\n",
       "        vertical-align: middle;\n",
       "    }\n",
       "\n",
       "    .dataframe tbody tr th {\n",
       "        vertical-align: top;\n",
       "    }\n",
       "\n",
       "    .dataframe thead th {\n",
       "        text-align: right;\n",
       "    }\n",
       "</style>\n",
       "<table border=\"1\" class=\"dataframe\">\n",
       "  <thead>\n",
       "    <tr style=\"text-align: right;\">\n",
       "      <th></th>\n",
       "      <th>Sold_On</th>\n",
       "      <th>Size</th>\n",
       "      <th>Ingredients_Cost</th>\n",
       "      <th>Design_Complexity</th>\n",
       "      <th>Time_Taken</th>\n",
       "      <th>Price</th>\n",
       "      <th>Amount</th>\n",
       "      <th>Gender</th>\n",
       "    </tr>\n",
       "  </thead>\n",
       "  <tbody>\n",
       "    <tr>\n",
       "      <th>0</th>\n",
       "      <td>Monday</td>\n",
       "      <td>large</td>\n",
       "      <td>28</td>\n",
       "      <td>complex</td>\n",
       "      <td>6</td>\n",
       "      <td>49</td>\n",
       "      <td>10</td>\n",
       "      <td>female</td>\n",
       "    </tr>\n",
       "    <tr>\n",
       "      <th>1</th>\n",
       "      <td>Saturday</td>\n",
       "      <td>medium</td>\n",
       "      <td>65</td>\n",
       "      <td>simple</td>\n",
       "      <td>2</td>\n",
       "      <td>93</td>\n",
       "      <td>9</td>\n",
       "      <td>female</td>\n",
       "    </tr>\n",
       "    <tr>\n",
       "      <th>2</th>\n",
       "      <td>Wednesday</td>\n",
       "      <td>large</td>\n",
       "      <td>96</td>\n",
       "      <td>simple</td>\n",
       "      <td>5</td>\n",
       "      <td>128</td>\n",
       "      <td>8</td>\n",
       "      <td>male</td>\n",
       "    </tr>\n",
       "    <tr>\n",
       "      <th>3</th>\n",
       "      <td>Tuesday</td>\n",
       "      <td>medium</td>\n",
       "      <td>155</td>\n",
       "      <td>simple</td>\n",
       "      <td>3</td>\n",
       "      <td>198</td>\n",
       "      <td>6</td>\n",
       "      <td>female</td>\n",
       "    </tr>\n",
       "    <tr>\n",
       "      <th>4</th>\n",
       "      <td>Saturday</td>\n",
       "      <td>large</td>\n",
       "      <td>20</td>\n",
       "      <td>simple</td>\n",
       "      <td>2</td>\n",
       "      <td>32</td>\n",
       "      <td>5</td>\n",
       "      <td>male</td>\n",
       "    </tr>\n",
       "  </tbody>\n",
       "</table>\n",
       "</div>"
      ],
      "text/plain": [
       "     Sold_On    Size  Ingredients_Cost Design_Complexity  Time_Taken  Price  \\\n",
       "0     Monday   large                28           complex           6     49   \n",
       "1   Saturday  medium                65            simple           2     93   \n",
       "2  Wednesday   large                96            simple           5    128   \n",
       "3    Tuesday  medium               155            simple           3    198   \n",
       "4   Saturday   large                20            simple           2     32   \n",
       "\n",
       "   Amount  Gender  \n",
       "0      10  female  \n",
       "1       9  female  \n",
       "2       8    male  \n",
       "3       6  female  \n",
       "4       5    male  "
      ]
     },
     "execution_count": 78,
     "metadata": {},
     "output_type": "execute_result"
    }
   ],
   "source": [
    "df=pd.read_csv('dataset.csv')\n",
    "df.head()"
   ]
  },
  {
   "cell_type": "code",
   "execution_count": 79,
   "id": "031cc667-b240-4bf4-aceb-bc8cb48e7a6b",
   "metadata": {},
   "outputs": [
    {
     "name": "stdout",
     "output_type": "stream",
     "text": [
      "<class 'pandas.core.frame.DataFrame'>\n",
      "RangeIndex: 4000 entries, 0 to 3999\n",
      "Data columns (total 8 columns):\n",
      " #   Column             Non-Null Count  Dtype \n",
      "---  ------             --------------  ----- \n",
      " 0   Sold_On            4000 non-null   object\n",
      " 1   Size               4000 non-null   object\n",
      " 2   Ingredients_Cost   4000 non-null   int64 \n",
      " 3   Design_Complexity  4000 non-null   object\n",
      " 4   Time_Taken         4000 non-null   int64 \n",
      " 5   Price              4000 non-null   int64 \n",
      " 6   Amount             4000 non-null   int64 \n",
      " 7   Gender             4000 non-null   object\n",
      "dtypes: int64(4), object(4)\n",
      "memory usage: 250.1+ KB\n"
     ]
    }
   ],
   "source": [
    "df.info()"
   ]
  },
  {
   "cell_type": "code",
   "execution_count": 80,
   "id": "3722ee08-bb82-4147-8127-25cb57cf3445",
   "metadata": {},
   "outputs": [
    {
     "data": {
      "text/plain": [
       "Sold_On              0\n",
       "Size                 0\n",
       "Ingredients_Cost     0\n",
       "Design_Complexity    0\n",
       "Time_Taken           0\n",
       "Price                0\n",
       "Amount               0\n",
       "Gender               0\n",
       "dtype: int64"
      ]
     },
     "execution_count": 80,
     "metadata": {},
     "output_type": "execute_result"
    }
   ],
   "source": [
    "df.isnull().sum()"
   ]
  },
  {
   "cell_type": "code",
   "execution_count": 81,
   "id": "0d28ee09-1cf3-4e20-b489-b9f4189e6204",
   "metadata": {},
   "outputs": [
    {
     "data": {
      "text/plain": [
       "(4000, 8)"
      ]
     },
     "execution_count": 81,
     "metadata": {},
     "output_type": "execute_result"
    }
   ],
   "source": [
    "df.shape"
   ]
  },
  {
   "cell_type": "code",
   "execution_count": 82,
   "id": "21cb3b4a-9c12-43d1-bd34-c9a42ad42ee7",
   "metadata": {},
   "outputs": [
    {
     "data": {
      "text/plain": [
       "1"
      ]
     },
     "execution_count": 82,
     "metadata": {},
     "output_type": "execute_result"
    }
   ],
   "source": [
    "df.duplicated().sum()"
   ]
  },
  {
   "cell_type": "code",
   "execution_count": 83,
   "id": "15a17a24-fa5a-4f89-8b90-0ea56667fe5f",
   "metadata": {},
   "outputs": [
    {
     "data": {
      "text/plain": [
       "Sold_On              object\n",
       "Size                 object\n",
       "Ingredients_Cost      int64\n",
       "Design_Complexity    object\n",
       "Time_Taken            int64\n",
       "Price                 int64\n",
       "Amount                int64\n",
       "Gender               object\n",
       "dtype: object"
      ]
     },
     "execution_count": 83,
     "metadata": {},
     "output_type": "execute_result"
    }
   ],
   "source": [
    "df.dtypes"
   ]
  },
  {
   "cell_type": "code",
   "execution_count": 84,
   "id": "264e9151-1d78-4c74-8709-54a804c88c33",
   "metadata": {},
   "outputs": [],
   "source": [
    "import matplotlib.pyplot as plt,seaborn as sns"
   ]
  },
  {
   "cell_type": "code",
   "execution_count": 85,
   "id": "8b53fa8c-ab43-46b8-b58a-87fe055ba058",
   "metadata": {},
   "outputs": [
    {
     "data": {
      "text/plain": [
       "Index(['Sold_On', 'Size', 'Ingredients_Cost', 'Design_Complexity',\n",
       "       'Time_Taken', 'Price', 'Amount', 'Gender'],\n",
       "      dtype='object')"
      ]
     },
     "execution_count": 85,
     "metadata": {},
     "output_type": "execute_result"
    }
   ],
   "source": [
    "df.columns"
   ]
  },
  {
   "cell_type": "code",
   "execution_count": 86,
   "id": "628b74cd-13cb-453a-b69c-dc73cb144b73",
   "metadata": {},
   "outputs": [
    {
     "data": {
      "text/plain": [
       "Sold_On\n",
       "Wednesday    598\n",
       "Saturday     587\n",
       "Monday       583\n",
       "Friday       583\n",
       "Sunday       558\n",
       "Thursday     548\n",
       "Tuesday      543\n",
       "Name: count, dtype: int64"
      ]
     },
     "execution_count": 86,
     "metadata": {},
     "output_type": "execute_result"
    }
   ],
   "source": [
    "df['Sold_On'].value_counts()"
   ]
  },
  {
   "cell_type": "code",
   "execution_count": 87,
   "id": "cf876e03-5457-40d9-b40e-b21499ef05ec",
   "metadata": {},
   "outputs": [
    {
     "data": {
      "image/png": "[encoded data removed]",
      "text/plain": [
       "<Figure size 640x480 with 1 Axes>"
      ]
     },
     "metadata": {},
     "output_type": "display_data"
    }
   ],
   "source": [
    "sns.barplot(x=df['Sold_On'].value_counts().index,y=df['Sold_On'].value_counts().values)\n",
    "plt.ylabel('Count')\n",
    "plt.title('Sold_On')\n",
    "plt.show()"
   ]
  },
  {
   "cell_type": "code",
   "execution_count": 88,
   "id": "64b8fd0d-7fb8-404a-bf89-135800cdd66e",
   "metadata": {},
   "outputs": [
    {
     "data": {
      "text/plain": [
       "Size\n",
       "medium    1371\n",
       "large     1337\n",
       "small     1292\n",
       "Name: count, dtype: int64"
      ]
     },
     "execution_count": 88,
     "metadata": {},
     "output_type": "execute_result"
    }
   ],
   "source": [
    "df['Size'].value_counts()"
   ]
  },
  {
   "cell_type": "code",
   "execution_count": 89,
   "id": "5f14b3ee-e621-4fa1-afeb-31b2e5f0b467",
   "metadata": {},
   "outputs": [
    {
     "data": {
      "image/png": "[encoded data removed]",
      "text/plain": [
       "<Figure size 640x480 with 1 Axes>"
      ]
     },
     "metadata": {},
     "output_type": "display_data"
    }
   ],
   "source": [
    "plt.pie(df['Size'].value_counts().values,labels=df['Size'].value_counts().index,autopct='%1.1f%%')\n",
    "plt.title('Size')\n",
    "plt.show()"
   ]
  },
  {
   "cell_type": "code",
   "execution_count": 90,
   "id": "53f62794-c389-4267-b628-3ca43e0bb27c",
   "metadata": {},
   "outputs": [
    {
     "data": {
      "image/png": "[encoded data removed]",
      "text/plain": [
       "<Figure size 640x480 with 1 Axes>"
      ]
     },
     "metadata": {},
     "output_type": "display_data"
    }
   ],
   "source": [
    "df['Ingredients_Cost'].plot.hist()\n",
    "plt.show()"
   ]
  },
  {
   "cell_type": "code",
   "execution_count": 91,
   "id": "8b15c553-b33d-4418-aa20-8b9fc294ec42",
   "metadata": {},
   "outputs": [
    {
     "data": {
      "text/plain": [
       "Design_Complexity\n",
       "simple     2028\n",
       "complex    1972\n",
       "Name: count, dtype: int64"
      ]
     },
     "execution_count": 91,
     "metadata": {},
     "output_type": "execute_result"
    }
   ],
   "source": [
    "df['Design_Complexity'].value_counts()"
   ]
  },
  {
   "cell_type": "code",
   "execution_count": 92,
   "id": "2de03a53-b8e9-4253-99c0-81cbfdebbc76",
   "metadata": {},
   "outputs": [
    {
     "data": {
      "image/png": "[encoded data removed]",
      "text/plain": [
       "<Figure size 640x480 with 1 Axes>"
      ]
     },
     "metadata": {},
     "output_type": "display_data"
    }
   ],
   "source": [
    "sns.barplot(x=df['Design_Complexity'].value_counts().index,y=df['Design_Complexity'].value_counts().values)\n",
    "plt.ylabel('Count')\n",
    "plt.title('Design_Complexity')\n",
    "plt.show()"
   ]
  },
  {
   "cell_type": "code",
   "execution_count": 93,
   "id": "0f84671d-f9d0-4034-bdd3-d1c5ef3bc03e",
   "metadata": {},
   "outputs": [
    {
     "data": {
      "text/plain": [
       "Time_Taken\n",
       "3     649\n",
       "5     634\n",
       "2     612\n",
       "4     585\n",
       "1     388\n",
       "11    205\n",
       "6     191\n",
       "8     188\n",
       "9     185\n",
       "10    184\n",
       "7     179\n",
       "Name: count, dtype: int64"
      ]
     },
     "execution_count": 93,
     "metadata": {},
     "output_type": "execute_result"
    }
   ],
   "source": [
    "df['Time_Taken'].value_counts()"
   ]
  },
  {
   "cell_type": "code",
   "execution_count": 94,
   "id": "123accc3-cf1b-44fb-8ba3-25205d794cf1",
   "metadata": {},
   "outputs": [
    {
     "data": {
      "image/png": "[encoded data removed]",
      "text/plain": [
       "<Figure size 640x480 with 1 Axes>"
      ]
     },
     "metadata": {},
     "output_type": "display_data"
    }
   ],
   "source": [
    "sns.barplot(x=df['Time_Taken'].value_counts().index,y=df['Time_Taken'].value_counts().values)\n",
    "plt.ylabel('Count')\n",
    "plt.title('Time_Taken')\n",
    "plt.show()"
   ]
  },
  {
   "cell_type": "code",
   "execution_count": 95,
   "id": "e5d240ec-1511-4ee6-a811-9d692a57b932",
   "metadata": {},
   "outputs": [
    {
     "data": {
      "text/plain": [
       "Amount\n",
       "4     424\n",
       "2     420\n",
       "6     414\n",
       "9     410\n",
       "1     409\n",
       "8     399\n",
       "7     393\n",
       "3     386\n",
       "10    375\n",
       "5     370\n",
       "Name: count, dtype: int64"
      ]
     },
     "execution_count": 95,
     "metadata": {},
     "output_type": "execute_result"
    }
   ],
   "source": [
    "df['Amount'].value_counts()"
   ]
  },
  {
   "cell_type": "code",
   "execution_count": 96,
   "id": "73beb573-2d8b-4185-b3d1-e62aa86189c0",
   "metadata": {},
   "outputs": [
    {
     "data": {
      "image/png": "[encoded data removed]",
      "text/plain": [
       "<Figure size 640x480 with 1 Axes>"
      ]
     },
     "metadata": {},
     "output_type": "display_data"
    }
   ],
   "source": [
    "sns.barplot(x=df['Amount'].value_counts().index,y=df['Amount'].value_counts().values)\n",
    "plt.ylabel('Count')\n",
    "plt.title('Amount')\n",
    "plt.show()"
   ]
  },
  {
   "cell_type": "code",
   "execution_count": 97,
   "id": "123dc5d2-b3b4-4822-a5e6-5ca6bbbcc552",
   "metadata": {},
   "outputs": [
    {
     "data": {
      "text/plain": [
       "Gender\n",
       "male      2006\n",
       "female    1994\n",
       "Name: count, dtype: int64"
      ]
     },
     "execution_count": 97,
     "metadata": {},
     "output_type": "execute_result"
    }
   ],
   "source": [
    "df['Gender'].value_counts()"
   ]
  },
  {
   "cell_type": "code",
   "execution_count": 98,
   "id": "0983b869-08cf-4462-939e-05364a31b9d9",
   "metadata": {},
   "outputs": [
    {
     "data": {
      "image/png": "[encoded data removed]",
      "text/plain": [
       "<Figure size 640x480 with 1 Axes>"
      ]
     },
     "metadata": {},
     "output_type": "display_data"
    }
   ],
   "source": [
    "df['Gender'].value_counts().plot.bar()\n",
    "plt.ylabel('Count')\n",
    "plt.title('Gender Dis')\n",
    "plt.show()"
   ]
  },
  {
   "cell_type": "code",
   "execution_count": 99,
   "id": "037a1638-bf02-4677-81ec-8b8dd144fc88",
   "metadata": {},
   "outputs": [
    {
     "data": {
      "image/png": "[encoded data removed]",
      "text/plain": [
       "<Figure size 640x480 with 1 Axes>"
      ]
     },
     "metadata": {},
     "output_type": "display_data"
    }
   ],
   "source": [
    "df.Price.plot.hist()\n",
    "plt.title('Price dis')\n",
    "plt.show()"
   ]
  },
  {
   "cell_type": "code",
   "execution_count": 100,
   "id": "3eadcda1-bea5-4048-b29f-3bbffab2cccd",
   "metadata": {},
   "outputs": [],
   "source": [
    "from sklearn.preprocessing import OrdinalEncoder,LabelEncoder"
   ]
  },
  {
   "cell_type": "code",
   "execution_count": 101,
   "id": "621bd5e2-7ea7-4cbc-8236-077e2df360a3",
   "metadata": {},
   "outputs": [
    {
     "data": {
      "text/plain": [
       "Size\n",
       "medium    1371\n",
       "large     1337\n",
       "small     1292\n",
       "Name: count, dtype: int64"
      ]
     },
     "execution_count": 101,
     "metadata": {},
     "output_type": "execute_result"
    }
   ],
   "source": [
    "df['Size'].value_counts()"
   ]
  },
  {
   "cell_type": "code",
   "execution_count": 121,
   "id": "c45afbc1-2f85-4e94-b20f-b2219f9c7d45",
   "metadata": {},
   "outputs": [
    {
     "data": {
      "text/plain": [
       "Design_Complexity\n",
       "1    2028\n",
       "0    1972\n",
       "Name: count, dtype: int64"
      ]
     },
     "execution_count": 121,
     "metadata": {},
     "output_type": "execute_result"
    }
   ],
   "source": [
    "df['Design_Complexity'].value_counts()"
   ]
  },
  {
   "cell_type": "code",
   "execution_count": 118,
   "id": "fa3d7087-6ae8-4347-b498-eae71ac3aeaa",
   "metadata": {},
   "outputs": [],
   "source": [
    "df['Size']=OrdinalEncoder().fit_transform(df[['Size']])\n",
    "df['Gender']=LabelEncoder().fit_transform(df['Gender'])\n",
    "df['Sold_On']=LabelEncoder().fit_transform(df['Sold_On'])\n",
    "df['Design_Complexity']=LabelEncoder().fit_transform(df['Design_Complexity'])"
   ]
  },
  {
   "cell_type": "code",
   "execution_count": 119,
   "id": "58e6d27f-2200-4148-aa66-bc3274f76af0",
   "metadata": {},
   "outputs": [
    {
     "data": {
      "text/plain": [
       "Size\n",
       "1.0    1371\n",
       "0.0    1337\n",
       "2.0    1292\n",
       "Name: count, dtype: int64"
      ]
     },
     "execution_count": 119,
     "metadata": {},
     "output_type": "execute_result"
    }
   ],
   "source": [
    "df['Size'].value_counts()"
   ]
  },
  {
   "cell_type": "code",
   "execution_count": 125,
   "id": "bedb59b7-5e7e-419b-ba87-06b244fbd256",
   "metadata": {},
   "outputs": [
    {
     "data": {
      "text/html": [
       "<div>\n",
       "<style scoped>\n",
       "    .dataframe tbody tr th:only-of-type {\n",
       "        vertical-align: middle;\n",
       "    }\n",
       "\n",
       "    .dataframe tbody tr th {\n",
       "        vertical-align: top;\n",
       "    }\n",
       "\n",
       "    .dataframe thead th {\n",
       "        text-align: right;\n",
       "    }\n",
       "</style>\n",
       "<table border=\"1\" class=\"dataframe\">\n",
       "  <thead>\n",
       "    <tr style=\"text-align: right;\">\n",
       "      <th></th>\n",
       "      <th>Sold_On</th>\n",
       "      <th>Size</th>\n",
       "      <th>Ingredients_Cost</th>\n",
       "      <th>Design_Complexity</th>\n",
       "      <th>Time_Taken</th>\n",
       "      <th>Price</th>\n",
       "      <th>Amount</th>\n",
       "      <th>Gender</th>\n",
       "    </tr>\n",
       "  </thead>\n",
       "  <tbody>\n",
       "    <tr>\n",
       "      <th>0</th>\n",
       "      <td>1</td>\n",
       "      <td>0</td>\n",
       "      <td>28</td>\n",
       "      <td>0</td>\n",
       "      <td>6</td>\n",
       "      <td>49</td>\n",
       "      <td>10</td>\n",
       "      <td>0</td>\n",
       "    </tr>\n",
       "    <tr>\n",
       "      <th>1</th>\n",
       "      <td>2</td>\n",
       "      <td>1</td>\n",
       "      <td>65</td>\n",
       "      <td>1</td>\n",
       "      <td>2</td>\n",
       "      <td>93</td>\n",
       "      <td>9</td>\n",
       "      <td>0</td>\n",
       "    </tr>\n",
       "    <tr>\n",
       "      <th>2</th>\n",
       "      <td>6</td>\n",
       "      <td>0</td>\n",
       "      <td>96</td>\n",
       "      <td>1</td>\n",
       "      <td>5</td>\n",
       "      <td>128</td>\n",
       "      <td>8</td>\n",
       "      <td>1</td>\n",
       "    </tr>\n",
       "    <tr>\n",
       "      <th>3</th>\n",
       "      <td>5</td>\n",
       "      <td>1</td>\n",
       "      <td>155</td>\n",
       "      <td>1</td>\n",
       "      <td>3</td>\n",
       "      <td>198</td>\n",
       "      <td>6</td>\n",
       "      <td>0</td>\n",
       "    </tr>\n",
       "    <tr>\n",
       "      <th>4</th>\n",
       "      <td>2</td>\n",
       "      <td>0</td>\n",
       "      <td>20</td>\n",
       "      <td>1</td>\n",
       "      <td>2</td>\n",
       "      <td>32</td>\n",
       "      <td>5</td>\n",
       "      <td>1</td>\n",
       "    </tr>\n",
       "  </tbody>\n",
       "</table>\n",
       "</div>"
      ],
      "text/plain": [
       "   Sold_On  Size  Ingredients_Cost  Design_Complexity  Time_Taken  Price  \\\n",
       "0        1     0                28                  0           6     49   \n",
       "1        2     1                65                  1           2     93   \n",
       "2        6     0                96                  1           5    128   \n",
       "3        5     1               155                  1           3    198   \n",
       "4        2     0                20                  1           2     32   \n",
       "\n",
       "   Amount  Gender  \n",
       "0      10       0  \n",
       "1       9       0  \n",
       "2       8       1  \n",
       "3       6       0  \n",
       "4       5       1  "
      ]
     },
     "execution_count": 125,
     "metadata": {},
     "output_type": "execute_result"
    }
   ],
   "source": [
    "df.head()"
   ]
  },
  {
   "cell_type": "code",
   "execution_count": 123,
   "id": "413cdc36-57e2-408f-bafd-07f394889889",
   "metadata": {},
   "outputs": [],
   "source": [
    "df['Size']=df['Size'].astype(int)"
   ]
  },
  {
   "cell_type": "code",
   "execution_count": 124,
   "id": "adfe8655-cf77-4c8c-93c0-3507b7c11fbe",
   "metadata": {},
   "outputs": [
    {
     "data": {
      "text/plain": [
       "Sold_On              int64\n",
       "Size                 int32\n",
       "Ingredients_Cost     int64\n",
       "Design_Complexity    int32\n",
       "Time_Taken           int64\n",
       "Price                int64\n",
       "Amount               int64\n",
       "Gender               int64\n",
       "dtype: object"
      ]
     },
     "execution_count": 124,
     "metadata": {},
     "output_type": "execute_result"
    }
   ],
   "source": [
    "df.dtypes"
   ]
  },
  {
   "cell_type": "code",
   "execution_count": 185,
   "id": "2ee2d7a2-fd91-4441-9dc7-b636ff73a56d",
   "metadata": {},
   "outputs": [],
   "source": [
    "from sklearn.model_selection import train_test_split\n",
    "from sklearn.preprocessing import StandardScaler\n",
    "from sklearn.linear_model import LinearRegression\n",
    "from sklearn.metrics import  mean_squared_error, r2_score"
   ]
  },
  {
   "cell_type": "code",
   "execution_count": 175,
   "id": "8fbc42e9-2d3e-4bbe-8ac9-44c56852d280",
   "metadata": {},
   "outputs": [],
   "source": [
    "x=df.drop('Price',axis=1)\n",
    "y=df.Price"
   ]
  },
  {
   "cell_type": "code",
   "execution_count": 176,
   "id": "6b74e0cf-11ea-4e52-bf71-cceb34f9fd71",
   "metadata": {},
   "outputs": [],
   "source": [
    "x_train,x_test,y_train,y_test=train_test_split(x,y,test_size=0.2,random_state=42)"
   ]
  },
  {
   "cell_type": "code",
   "execution_count": 177,
   "id": "b496ee18-cb38-4449-95bd-2d87e51d6584",
   "metadata": {},
   "outputs": [],
   "source": [
    "lr=LinearRegression()"
   ]
  },
  {
   "cell_type": "code",
   "execution_count": 178,
   "id": "ba72966f-b44a-4f9b-b032-16f0ec43e0b1",
   "metadata": {},
   "outputs": [
    {
     "name": "stdout",
     "output_type": "stream",
     "text": [
      "[ 85.42157984  18.65083966  99.36308246 143.9532315   91.00718841\n",
      " 127.85678277 243.66139243 128.8518274  283.0168418  159.43032145]\n",
      "[ 97  23  88 131  97 114 257 126 310 172]\n"
     ]
    }
   ],
   "source": [
    "lr.fit(x_train,y_train)\n",
    "yhat=lr.predict(x_test)\n",
    "print(yhat[0:10])\n",
    "print(y_test[0:10].values)"
   ]
  },
  {
   "cell_type": "code",
   "execution_count": 186,
   "id": "5cae1a50-9881-41dd-bc29-33b0095b0f67",
   "metadata": {},
   "outputs": [
    {
     "name": "stdout",
     "output_type": "stream",
     "text": [
      "r2_score:  0.9740980024680167\n",
      "mean_squared_error:  140.77484911108044\n"
     ]
    }
   ],
   "source": [
    "print('r2_score: ',r2_score(y_test,yhat))\n",
    "print('mean_squared_error: ',mean_squared_error(y_test,yhat))"
   ]
  },
  {
   "cell_type": "code",
   "execution_count": null,
   "id": "da18cc0b-dbbb-4094-b359-4d86697cbadb",
   "metadata": {},
   "outputs": [],
   "source": []
  }
 ],
 "metadata": {
  "kernelspec": {
   "display_name": "Python 3 (ipykernel)",
   "language": "python",
   "name": "python3"
  },
  "language_info": {
   "codemirror_mode": {
    "name": "ipython",
    "version": 3
   },
   "file_extension": ".py",
   "mimetype": "text/x-python",
   "name": "python",
   "nbconvert_exporter": "python",
   "pygments_lexer": "ipython3",
   "version": "3.10.5"
  }
 },
 "nbformat": 4,
 "nbformat_minor": 5
}
